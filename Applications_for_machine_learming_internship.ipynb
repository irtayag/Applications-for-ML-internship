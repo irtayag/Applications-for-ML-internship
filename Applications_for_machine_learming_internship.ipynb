{
 "cells": [
  {
   "cell_type": "markdown",
   "id": "0492f315",
   "metadata": {},
   "source": [
    "# Importing Libraries and Dataset"
   ]
  },
  {
   "cell_type": "code",
   "execution_count": 1,
   "id": "44514eef",
   "metadata": {},
   "outputs": [],
   "source": [
    "import numpy as np\n",
    "import pandas as pd\n",
    "import seaborn as sns\n",
    "import matplotlib.pyplot as plt\n",
    "from sklearn.linear_model import LinearRegression\n",
    "from sklearn.linear_model import LogisticRegression\n",
    "from sklearn.model_selection import train_test_split\n",
    "from sklearn.metrics import confusion_matrix\n",
    "from sklearn.metrics import accuracy_score\n",
    "from sklearn.metrics import classification_report\n",
    "from sklearn.neighbors import KNeighborsClassifier\n",
    "from sklearn.metrics import accuracy_score\n",
    "from sklearn.metrics import roc_auc_score\n",
    "from sklearn.metrics import roc_curve\n",
    "%matplotlib inline\n",
    "import warnings                        \n",
    "warnings.filterwarnings(\"ignore\")\n"
   ]
  },
  {
   "cell_type": "code",
   "execution_count": 2,
   "id": "cc983779",
   "metadata": {},
   "outputs": [],
   "source": [
    "df=pd.read_csv('C:/Users/HP/Desktop/Applications_for_Machine_Learning_internship_edited.csv')"
   ]
  },
  {
   "cell_type": "code",
   "execution_count": 3,
   "id": "009633d4",
   "metadata": {},
   "outputs": [
    {
     "data": {
      "text/plain": [
       "Name                                                                                                 float64\n",
       "Python (out of 3)                                                                                      int64\n",
       "Machine Learning (out of 3)                                                                            int64\n",
       "Natural Language Processing (NLP) (out of 3)                                                           int64\n",
       "Deep Learning (out of 3)                                                                               int64\n",
       "Other skills                                                                                          object\n",
       "Are you available for 3 months, starting immediately, for a full-time work from home internship?      object\n",
       "Degree                                                                                                object\n",
       "Stream                                                                                                object\n",
       "Current Year Of Graduation                                                                             int64\n",
       "Performance_PG                                                                                        object\n",
       "Performance_UG                                                                                        object\n",
       "Performance_12                                                                                        object\n",
       "Performance_10                                                                                        object\n",
       "dtype: object"
      ]
     },
     "execution_count": 3,
     "metadata": {},
     "output_type": "execute_result"
    }
   ],
   "source": [
    "df.dtypes"
   ]
  },
  {
   "cell_type": "markdown",
   "id": "f79ce161",
   "metadata": {},
   "source": [
    "# Data Preprocessing"
   ]
  },
  {
   "cell_type": "code",
   "execution_count": 4,
   "id": "329217b8",
   "metadata": {},
   "outputs": [
    {
     "data": {
      "text/html": [
       "<div>\n",
       "<style scoped>\n",
       "    .dataframe tbody tr th:only-of-type {\n",
       "        vertical-align: middle;\n",
       "    }\n",
       "\n",
       "    .dataframe tbody tr th {\n",
       "        vertical-align: top;\n",
       "    }\n",
       "\n",
       "    .dataframe thead th {\n",
       "        text-align: right;\n",
       "    }\n",
       "</style>\n",
       "<table border=\"1\" class=\"dataframe\">\n",
       "  <thead>\n",
       "    <tr style=\"text-align: right;\">\n",
       "      <th></th>\n",
       "      <th>Name</th>\n",
       "      <th>Python (out of 3)</th>\n",
       "      <th>Machine Learning (out of 3)</th>\n",
       "      <th>Natural Language Processing (NLP) (out of 3)</th>\n",
       "      <th>Deep Learning (out of 3)</th>\n",
       "      <th>Other skills</th>\n",
       "      <th>Are you available for 3 months, starting immediately, for a full-time work from home internship?</th>\n",
       "      <th>Degree</th>\n",
       "      <th>Stream</th>\n",
       "      <th>Current Year Of Graduation</th>\n",
       "      <th>Performance_PG</th>\n",
       "      <th>Performance_UG</th>\n",
       "      <th>Performance_12</th>\n",
       "      <th>Performance_10</th>\n",
       "    </tr>\n",
       "  </thead>\n",
       "  <tbody>\n",
       "    <tr>\n",
       "      <th>0</th>\n",
       "      <td>NaN</td>\n",
       "      <td>1</td>\n",
       "      <td>0</td>\n",
       "      <td>0</td>\n",
       "      <td>1</td>\n",
       "      <td>MS-Excel, MS-Word, Deep Learning, MySQL, Pytho...</td>\n",
       "      <td>Yes, I am available for 3 months starting imme...</td>\n",
       "      <td>Bachelor of Vocation (B.Voc.)</td>\n",
       "      <td>Software Engineering</td>\n",
       "      <td>2021</td>\n",
       "      <td>NaN</td>\n",
       "      <td>6.50/7</td>\n",
       "      <td>NaN</td>\n",
       "      <td>NaN</td>\n",
       "    </tr>\n",
       "    <tr>\n",
       "      <th>1</th>\n",
       "      <td>NaN</td>\n",
       "      <td>2</td>\n",
       "      <td>0</td>\n",
       "      <td>0</td>\n",
       "      <td>0</td>\n",
       "      <td>Git, GitHub, Linux, Adobe After Effects, Adobe...</td>\n",
       "      <td>Yes, I am available for 3 months starting imme...</td>\n",
       "      <td>B.Tech</td>\n",
       "      <td>Computer Science &amp; Engineering</td>\n",
       "      <td>2024</td>\n",
       "      <td>NaN</td>\n",
       "      <td>8.90/10</td>\n",
       "      <td>NaN</td>\n",
       "      <td>NaN</td>\n",
       "    </tr>\n",
       "    <tr>\n",
       "      <th>2</th>\n",
       "      <td>NaN</td>\n",
       "      <td>2</td>\n",
       "      <td>2</td>\n",
       "      <td>0</td>\n",
       "      <td>0</td>\n",
       "      <td>Amazon Web Services (AWS), Docker, Hadoop, MS-...</td>\n",
       "      <td>Yes, I am available for 3 months starting imme...</td>\n",
       "      <td>Master of Science (M.S.)</td>\n",
       "      <td>Data Science And Analytics</td>\n",
       "      <td>2022</td>\n",
       "      <td>NaN</td>\n",
       "      <td>NaN</td>\n",
       "      <td>NaN</td>\n",
       "      <td>NaN</td>\n",
       "    </tr>\n",
       "    <tr>\n",
       "      <th>3</th>\n",
       "      <td>NaN</td>\n",
       "      <td>3</td>\n",
       "      <td>2</td>\n",
       "      <td>2</td>\n",
       "      <td>0</td>\n",
       "      <td>Adobe XD, BIG DATA ANALYTICS, Canva, Data Anal...</td>\n",
       "      <td>Yes, I am available for 3 months starting imme...</td>\n",
       "      <td>Bachelor of Engineering (B.E)</td>\n",
       "      <td>NaN</td>\n",
       "      <td>2024</td>\n",
       "      <td>NaN</td>\n",
       "      <td>NaN</td>\n",
       "      <td>85.60/85.60</td>\n",
       "      <td>10.00/10.00</td>\n",
       "    </tr>\n",
       "    <tr>\n",
       "      <th>4</th>\n",
       "      <td>NaN</td>\n",
       "      <td>2</td>\n",
       "      <td>2</td>\n",
       "      <td>0</td>\n",
       "      <td>0</td>\n",
       "      <td>C++ Programming, Data Science, Machine Learnin...</td>\n",
       "      <td>Yes, I am available for 3 months starting imme...</td>\n",
       "      <td>B.Tech</td>\n",
       "      <td>Computer Science</td>\n",
       "      <td>2023</td>\n",
       "      <td>NaN</td>\n",
       "      <td>8.10/10</td>\n",
       "      <td>93.40/93.40</td>\n",
       "      <td>10.00/10.00</td>\n",
       "    </tr>\n",
       "  </tbody>\n",
       "</table>\n",
       "</div>"
      ],
      "text/plain": [
       "   Name  Python (out of 3)  Machine Learning (out of 3)  \\\n",
       "0   NaN                  1                            0   \n",
       "1   NaN                  2                            0   \n",
       "2   NaN                  2                            2   \n",
       "3   NaN                  3                            2   \n",
       "4   NaN                  2                            2   \n",
       "\n",
       "   Natural Language Processing (NLP) (out of 3)  Deep Learning (out of 3)  \\\n",
       "0                                             0                         1   \n",
       "1                                             0                         0   \n",
       "2                                             0                         0   \n",
       "3                                             2                         0   \n",
       "4                                             0                         0   \n",
       "\n",
       "                                        Other skills  \\\n",
       "0  MS-Excel, MS-Word, Deep Learning, MySQL, Pytho...   \n",
       "1  Git, GitHub, Linux, Adobe After Effects, Adobe...   \n",
       "2  Amazon Web Services (AWS), Docker, Hadoop, MS-...   \n",
       "3  Adobe XD, BIG DATA ANALYTICS, Canva, Data Anal...   \n",
       "4  C++ Programming, Data Science, Machine Learnin...   \n",
       "\n",
       "  Are you available for 3 months, starting immediately, for a full-time work from home internship?   \\\n",
       "0  Yes, I am available for 3 months starting imme...                                                  \n",
       "1  Yes, I am available for 3 months starting imme...                                                  \n",
       "2  Yes, I am available for 3 months starting imme...                                                  \n",
       "3  Yes, I am available for 3 months starting imme...                                                  \n",
       "4  Yes, I am available for 3 months starting imme...                                                  \n",
       "\n",
       "                          Degree                          Stream  \\\n",
       "0  Bachelor of Vocation (B.Voc.)            Software Engineering   \n",
       "1                         B.Tech  Computer Science & Engineering   \n",
       "2       Master of Science (M.S.)      Data Science And Analytics   \n",
       "3  Bachelor of Engineering (B.E)                             NaN   \n",
       "4                         B.Tech                Computer Science   \n",
       "\n",
       "   Current Year Of Graduation Performance_PG Performance_UG Performance_12  \\\n",
       "0                        2021            NaN         6.50/7            NaN   \n",
       "1                        2024            NaN        8.90/10            NaN   \n",
       "2                        2022            NaN            NaN            NaN   \n",
       "3                        2024            NaN            NaN    85.60/85.60   \n",
       "4                        2023            NaN        8.10/10    93.40/93.40   \n",
       "\n",
       "  Performance_10  \n",
       "0            NaN  \n",
       "1            NaN  \n",
       "2            NaN  \n",
       "3    10.00/10.00  \n",
       "4    10.00/10.00  "
      ]
     },
     "execution_count": 4,
     "metadata": {},
     "output_type": "execute_result"
    }
   ],
   "source": [
    "df.head()"
   ]
  },
  {
   "cell_type": "code",
   "execution_count": 5,
   "id": "57919a2d",
   "metadata": {},
   "outputs": [
    {
     "data": {
      "text/html": [
       "<div>\n",
       "<style scoped>\n",
       "    .dataframe tbody tr th:only-of-type {\n",
       "        vertical-align: middle;\n",
       "    }\n",
       "\n",
       "    .dataframe tbody tr th {\n",
       "        vertical-align: top;\n",
       "    }\n",
       "\n",
       "    .dataframe thead th {\n",
       "        text-align: right;\n",
       "    }\n",
       "</style>\n",
       "<table border=\"1\" class=\"dataframe\">\n",
       "  <thead>\n",
       "    <tr style=\"text-align: right;\">\n",
       "      <th></th>\n",
       "      <th>Name</th>\n",
       "      <th>Python (out of 3)</th>\n",
       "      <th>Machine Learning (out of 3)</th>\n",
       "      <th>Natural Language Processing (NLP) (out of 3)</th>\n",
       "      <th>Deep Learning (out of 3)</th>\n",
       "      <th>Current Year Of Graduation</th>\n",
       "    </tr>\n",
       "  </thead>\n",
       "  <tbody>\n",
       "    <tr>\n",
       "      <th>count</th>\n",
       "      <td>0.0</td>\n",
       "      <td>1136.000000</td>\n",
       "      <td>1136.000000</td>\n",
       "      <td>1136.000000</td>\n",
       "      <td>1136.000000</td>\n",
       "      <td>1136.000000</td>\n",
       "    </tr>\n",
       "    <tr>\n",
       "      <th>mean</th>\n",
       "      <td>NaN</td>\n",
       "      <td>1.792254</td>\n",
       "      <td>1.300176</td>\n",
       "      <td>0.497359</td>\n",
       "      <td>0.662852</td>\n",
       "      <td>1994.375000</td>\n",
       "    </tr>\n",
       "    <tr>\n",
       "      <th>std</th>\n",
       "      <td>NaN</td>\n",
       "      <td>0.917270</td>\n",
       "      <td>1.016446</td>\n",
       "      <td>0.861303</td>\n",
       "      <td>0.938587</td>\n",
       "      <td>238.489554</td>\n",
       "    </tr>\n",
       "    <tr>\n",
       "      <th>min</th>\n",
       "      <td>NaN</td>\n",
       "      <td>0.000000</td>\n",
       "      <td>0.000000</td>\n",
       "      <td>0.000000</td>\n",
       "      <td>0.000000</td>\n",
       "      <td>0.000000</td>\n",
       "    </tr>\n",
       "    <tr>\n",
       "      <th>25%</th>\n",
       "      <td>NaN</td>\n",
       "      <td>1.000000</td>\n",
       "      <td>0.000000</td>\n",
       "      <td>0.000000</td>\n",
       "      <td>0.000000</td>\n",
       "      <td>2023.000000</td>\n",
       "    </tr>\n",
       "    <tr>\n",
       "      <th>50%</th>\n",
       "      <td>NaN</td>\n",
       "      <td>2.000000</td>\n",
       "      <td>2.000000</td>\n",
       "      <td>0.000000</td>\n",
       "      <td>0.000000</td>\n",
       "      <td>2023.000000</td>\n",
       "    </tr>\n",
       "    <tr>\n",
       "      <th>75%</th>\n",
       "      <td>NaN</td>\n",
       "      <td>2.000000</td>\n",
       "      <td>2.000000</td>\n",
       "      <td>1.000000</td>\n",
       "      <td>1.000000</td>\n",
       "      <td>2024.000000</td>\n",
       "    </tr>\n",
       "    <tr>\n",
       "      <th>max</th>\n",
       "      <td>NaN</td>\n",
       "      <td>3.000000</td>\n",
       "      <td>3.000000</td>\n",
       "      <td>3.000000</td>\n",
       "      <td>3.000000</td>\n",
       "      <td>2027.000000</td>\n",
       "    </tr>\n",
       "  </tbody>\n",
       "</table>\n",
       "</div>"
      ],
      "text/plain": [
       "       Name  Python (out of 3)  Machine Learning (out of 3)  \\\n",
       "count   0.0        1136.000000                  1136.000000   \n",
       "mean    NaN           1.792254                     1.300176   \n",
       "std     NaN           0.917270                     1.016446   \n",
       "min     NaN           0.000000                     0.000000   \n",
       "25%     NaN           1.000000                     0.000000   \n",
       "50%     NaN           2.000000                     2.000000   \n",
       "75%     NaN           2.000000                     2.000000   \n",
       "max     NaN           3.000000                     3.000000   \n",
       "\n",
       "       Natural Language Processing (NLP) (out of 3)  Deep Learning (out of 3)  \\\n",
       "count                                   1136.000000               1136.000000   \n",
       "mean                                       0.497359                  0.662852   \n",
       "std                                        0.861303                  0.938587   \n",
       "min                                        0.000000                  0.000000   \n",
       "25%                                        0.000000                  0.000000   \n",
       "50%                                        0.000000                  0.000000   \n",
       "75%                                        1.000000                  1.000000   \n",
       "max                                        3.000000                  3.000000   \n",
       "\n",
       "       Current Year Of Graduation  \n",
       "count                 1136.000000  \n",
       "mean                  1994.375000  \n",
       "std                    238.489554  \n",
       "min                      0.000000  \n",
       "25%                   2023.000000  \n",
       "50%                   2023.000000  \n",
       "75%                   2024.000000  \n",
       "max                   2027.000000  "
      ]
     },
     "execution_count": 5,
     "metadata": {},
     "output_type": "execute_result"
    }
   ],
   "source": [
    "df.describe()"
   ]
  },
  {
   "cell_type": "code",
   "execution_count": 6,
   "id": "47b55e30",
   "metadata": {},
   "outputs": [
    {
     "data": {
      "text/plain": [
       "(1136, 14)"
      ]
     },
     "execution_count": 6,
     "metadata": {},
     "output_type": "execute_result"
    }
   ],
   "source": [
    "df.shape"
   ]
  },
  {
   "cell_type": "markdown",
   "id": "50c370c9",
   "metadata": {},
   "source": [
    "# Find missing values"
   ]
  },
  {
   "cell_type": "code",
   "execution_count": 7,
   "id": "dc7109e6",
   "metadata": {},
   "outputs": [
    {
     "data": {
      "text/html": [
       "<div>\n",
       "<style scoped>\n",
       "    .dataframe tbody tr th:only-of-type {\n",
       "        vertical-align: middle;\n",
       "    }\n",
       "\n",
       "    .dataframe tbody tr th {\n",
       "        vertical-align: top;\n",
       "    }\n",
       "\n",
       "    .dataframe thead th {\n",
       "        text-align: right;\n",
       "    }\n",
       "</style>\n",
       "<table border=\"1\" class=\"dataframe\">\n",
       "  <thead>\n",
       "    <tr style=\"text-align: right;\">\n",
       "      <th></th>\n",
       "      <th>Name</th>\n",
       "      <th>Python (out of 3)</th>\n",
       "      <th>Machine Learning (out of 3)</th>\n",
       "      <th>Natural Language Processing (NLP) (out of 3)</th>\n",
       "      <th>Deep Learning (out of 3)</th>\n",
       "      <th>Other skills</th>\n",
       "      <th>Are you available for 3 months, starting immediately, for a full-time work from home internship?</th>\n",
       "      <th>Degree</th>\n",
       "      <th>Stream</th>\n",
       "      <th>Current Year Of Graduation</th>\n",
       "      <th>Performance_PG</th>\n",
       "      <th>Performance_UG</th>\n",
       "      <th>Performance_12</th>\n",
       "      <th>Performance_10</th>\n",
       "    </tr>\n",
       "  </thead>\n",
       "  <tbody>\n",
       "    <tr>\n",
       "      <th>0</th>\n",
       "      <td>True</td>\n",
       "      <td>False</td>\n",
       "      <td>False</td>\n",
       "      <td>False</td>\n",
       "      <td>False</td>\n",
       "      <td>False</td>\n",
       "      <td>False</td>\n",
       "      <td>False</td>\n",
       "      <td>False</td>\n",
       "      <td>False</td>\n",
       "      <td>True</td>\n",
       "      <td>False</td>\n",
       "      <td>True</td>\n",
       "      <td>True</td>\n",
       "    </tr>\n",
       "    <tr>\n",
       "      <th>1</th>\n",
       "      <td>True</td>\n",
       "      <td>False</td>\n",
       "      <td>False</td>\n",
       "      <td>False</td>\n",
       "      <td>False</td>\n",
       "      <td>False</td>\n",
       "      <td>False</td>\n",
       "      <td>False</td>\n",
       "      <td>False</td>\n",
       "      <td>False</td>\n",
       "      <td>True</td>\n",
       "      <td>False</td>\n",
       "      <td>True</td>\n",
       "      <td>True</td>\n",
       "    </tr>\n",
       "    <tr>\n",
       "      <th>2</th>\n",
       "      <td>True</td>\n",
       "      <td>False</td>\n",
       "      <td>False</td>\n",
       "      <td>False</td>\n",
       "      <td>False</td>\n",
       "      <td>False</td>\n",
       "      <td>False</td>\n",
       "      <td>False</td>\n",
       "      <td>False</td>\n",
       "      <td>False</td>\n",
       "      <td>True</td>\n",
       "      <td>True</td>\n",
       "      <td>True</td>\n",
       "      <td>True</td>\n",
       "    </tr>\n",
       "    <tr>\n",
       "      <th>3</th>\n",
       "      <td>True</td>\n",
       "      <td>False</td>\n",
       "      <td>False</td>\n",
       "      <td>False</td>\n",
       "      <td>False</td>\n",
       "      <td>False</td>\n",
       "      <td>False</td>\n",
       "      <td>False</td>\n",
       "      <td>True</td>\n",
       "      <td>False</td>\n",
       "      <td>True</td>\n",
       "      <td>True</td>\n",
       "      <td>False</td>\n",
       "      <td>False</td>\n",
       "    </tr>\n",
       "    <tr>\n",
       "      <th>4</th>\n",
       "      <td>True</td>\n",
       "      <td>False</td>\n",
       "      <td>False</td>\n",
       "      <td>False</td>\n",
       "      <td>False</td>\n",
       "      <td>False</td>\n",
       "      <td>False</td>\n",
       "      <td>False</td>\n",
       "      <td>False</td>\n",
       "      <td>False</td>\n",
       "      <td>True</td>\n",
       "      <td>False</td>\n",
       "      <td>False</td>\n",
       "      <td>False</td>\n",
       "    </tr>\n",
       "    <tr>\n",
       "      <th>...</th>\n",
       "      <td>...</td>\n",
       "      <td>...</td>\n",
       "      <td>...</td>\n",
       "      <td>...</td>\n",
       "      <td>...</td>\n",
       "      <td>...</td>\n",
       "      <td>...</td>\n",
       "      <td>...</td>\n",
       "      <td>...</td>\n",
       "      <td>...</td>\n",
       "      <td>...</td>\n",
       "      <td>...</td>\n",
       "      <td>...</td>\n",
       "      <td>...</td>\n",
       "    </tr>\n",
       "    <tr>\n",
       "      <th>1131</th>\n",
       "      <td>True</td>\n",
       "      <td>False</td>\n",
       "      <td>False</td>\n",
       "      <td>False</td>\n",
       "      <td>False</td>\n",
       "      <td>False</td>\n",
       "      <td>False</td>\n",
       "      <td>False</td>\n",
       "      <td>False</td>\n",
       "      <td>False</td>\n",
       "      <td>True</td>\n",
       "      <td>True</td>\n",
       "      <td>True</td>\n",
       "      <td>True</td>\n",
       "    </tr>\n",
       "    <tr>\n",
       "      <th>1132</th>\n",
       "      <td>True</td>\n",
       "      <td>False</td>\n",
       "      <td>False</td>\n",
       "      <td>False</td>\n",
       "      <td>False</td>\n",
       "      <td>False</td>\n",
       "      <td>False</td>\n",
       "      <td>False</td>\n",
       "      <td>False</td>\n",
       "      <td>False</td>\n",
       "      <td>True</td>\n",
       "      <td>True</td>\n",
       "      <td>True</td>\n",
       "      <td>True</td>\n",
       "    </tr>\n",
       "    <tr>\n",
       "      <th>1133</th>\n",
       "      <td>True</td>\n",
       "      <td>False</td>\n",
       "      <td>False</td>\n",
       "      <td>False</td>\n",
       "      <td>False</td>\n",
       "      <td>False</td>\n",
       "      <td>False</td>\n",
       "      <td>False</td>\n",
       "      <td>False</td>\n",
       "      <td>False</td>\n",
       "      <td>True</td>\n",
       "      <td>False</td>\n",
       "      <td>False</td>\n",
       "      <td>True</td>\n",
       "    </tr>\n",
       "    <tr>\n",
       "      <th>1134</th>\n",
       "      <td>True</td>\n",
       "      <td>False</td>\n",
       "      <td>False</td>\n",
       "      <td>False</td>\n",
       "      <td>False</td>\n",
       "      <td>False</td>\n",
       "      <td>False</td>\n",
       "      <td>False</td>\n",
       "      <td>False</td>\n",
       "      <td>False</td>\n",
       "      <td>True</td>\n",
       "      <td>False</td>\n",
       "      <td>False</td>\n",
       "      <td>True</td>\n",
       "    </tr>\n",
       "    <tr>\n",
       "      <th>1135</th>\n",
       "      <td>True</td>\n",
       "      <td>False</td>\n",
       "      <td>False</td>\n",
       "      <td>False</td>\n",
       "      <td>False</td>\n",
       "      <td>False</td>\n",
       "      <td>False</td>\n",
       "      <td>False</td>\n",
       "      <td>False</td>\n",
       "      <td>False</td>\n",
       "      <td>True</td>\n",
       "      <td>True</td>\n",
       "      <td>True</td>\n",
       "      <td>True</td>\n",
       "    </tr>\n",
       "  </tbody>\n",
       "</table>\n",
       "<p>1136 rows × 14 columns</p>\n",
       "</div>"
      ],
      "text/plain": [
       "      Name  Python (out of 3)  Machine Learning (out of 3)  \\\n",
       "0     True              False                        False   \n",
       "1     True              False                        False   \n",
       "2     True              False                        False   \n",
       "3     True              False                        False   \n",
       "4     True              False                        False   \n",
       "...    ...                ...                          ...   \n",
       "1131  True              False                        False   \n",
       "1132  True              False                        False   \n",
       "1133  True              False                        False   \n",
       "1134  True              False                        False   \n",
       "1135  True              False                        False   \n",
       "\n",
       "      Natural Language Processing (NLP) (out of 3)  Deep Learning (out of 3)  \\\n",
       "0                                            False                     False   \n",
       "1                                            False                     False   \n",
       "2                                            False                     False   \n",
       "3                                            False                     False   \n",
       "4                                            False                     False   \n",
       "...                                            ...                       ...   \n",
       "1131                                         False                     False   \n",
       "1132                                         False                     False   \n",
       "1133                                         False                     False   \n",
       "1134                                         False                     False   \n",
       "1135                                         False                     False   \n",
       "\n",
       "      Other skills  \\\n",
       "0            False   \n",
       "1            False   \n",
       "2            False   \n",
       "3            False   \n",
       "4            False   \n",
       "...            ...   \n",
       "1131         False   \n",
       "1132         False   \n",
       "1133         False   \n",
       "1134         False   \n",
       "1135         False   \n",
       "\n",
       "      Are you available for 3 months, starting immediately, for a full-time work from home internship?   \\\n",
       "0                                                 False                                                   \n",
       "1                                                 False                                                   \n",
       "2                                                 False                                                   \n",
       "3                                                 False                                                   \n",
       "4                                                 False                                                   \n",
       "...                                                 ...                                                   \n",
       "1131                                              False                                                   \n",
       "1132                                              False                                                   \n",
       "1133                                              False                                                   \n",
       "1134                                              False                                                   \n",
       "1135                                              False                                                   \n",
       "\n",
       "      Degree  Stream  Current Year Of Graduation  Performance_PG  \\\n",
       "0      False   False                       False            True   \n",
       "1      False   False                       False            True   \n",
       "2      False   False                       False            True   \n",
       "3      False    True                       False            True   \n",
       "4      False   False                       False            True   \n",
       "...      ...     ...                         ...             ...   \n",
       "1131   False   False                       False            True   \n",
       "1132   False   False                       False            True   \n",
       "1133   False   False                       False            True   \n",
       "1134   False   False                       False            True   \n",
       "1135   False   False                       False            True   \n",
       "\n",
       "      Performance_UG  Performance_12  Performance_10  \n",
       "0              False            True            True  \n",
       "1              False            True            True  \n",
       "2               True            True            True  \n",
       "3               True           False           False  \n",
       "4              False           False           False  \n",
       "...              ...             ...             ...  \n",
       "1131            True            True            True  \n",
       "1132            True            True            True  \n",
       "1133           False           False            True  \n",
       "1134           False           False            True  \n",
       "1135            True            True            True  \n",
       "\n",
       "[1136 rows x 14 columns]"
      ]
     },
     "execution_count": 7,
     "metadata": {},
     "output_type": "execute_result"
    }
   ],
   "source": [
    "df.isnull()"
   ]
  },
  {
   "cell_type": "code",
   "execution_count": 8,
   "id": "9bb7d9ec",
   "metadata": {},
   "outputs": [
    {
     "data": {
      "text/plain": [
       "Name                                                                                                 1136\n",
       "Python (out of 3)                                                                                       0\n",
       "Machine Learning (out of 3)                                                                             0\n",
       "Natural Language Processing (NLP) (out of 3)                                                            0\n",
       "Deep Learning (out of 3)                                                                                0\n",
       "Other skills                                                                                           66\n",
       "Are you available for 3 months, starting immediately, for a full-time work from home internship?        0\n",
       "Degree                                                                                                 43\n",
       "Stream                                                                                                170\n",
       "Current Year Of Graduation                                                                              0\n",
       "Performance_PG                                                                                        952\n",
       "Performance_UG                                                                                        654\n",
       "Performance_12                                                                                        643\n",
       "Performance_10                                                                                        709\n",
       "dtype: int64"
      ]
     },
     "execution_count": 8,
     "metadata": {},
     "output_type": "execute_result"
    }
   ],
   "source": [
    "df.isnull().sum()"
   ]
  },
  {
   "cell_type": "code",
   "execution_count": 9,
   "id": "dfe5ee8b",
   "metadata": {},
   "outputs": [
    {
     "data": {
      "text/html": [
       "<div>\n",
       "<style scoped>\n",
       "    .dataframe tbody tr th:only-of-type {\n",
       "        vertical-align: middle;\n",
       "    }\n",
       "\n",
       "    .dataframe tbody tr th {\n",
       "        vertical-align: top;\n",
       "    }\n",
       "\n",
       "    .dataframe thead th {\n",
       "        text-align: right;\n",
       "    }\n",
       "</style>\n",
       "<table border=\"1\" class=\"dataframe\">\n",
       "  <thead>\n",
       "    <tr style=\"text-align: right;\">\n",
       "      <th></th>\n",
       "      <th>Name</th>\n",
       "      <th>Python (out of 3)</th>\n",
       "      <th>Machine Learning (out of 3)</th>\n",
       "      <th>Natural Language Processing (NLP) (out of 3)</th>\n",
       "      <th>Deep Learning (out of 3)</th>\n",
       "      <th>Other skills</th>\n",
       "      <th>Are you available for 3 months, starting immediately, for a full-time work from home internship?</th>\n",
       "      <th>Degree</th>\n",
       "      <th>Stream</th>\n",
       "      <th>Current Year Of Graduation</th>\n",
       "      <th>Performance_PG</th>\n",
       "      <th>Performance_UG</th>\n",
       "      <th>Performance_12</th>\n",
       "      <th>Performance_10</th>\n",
       "    </tr>\n",
       "  </thead>\n",
       "  <tbody>\n",
       "    <tr>\n",
       "      <th>0</th>\n",
       "      <td>True</td>\n",
       "      <td>False</td>\n",
       "      <td>False</td>\n",
       "      <td>False</td>\n",
       "      <td>False</td>\n",
       "      <td>False</td>\n",
       "      <td>False</td>\n",
       "      <td>False</td>\n",
       "      <td>False</td>\n",
       "      <td>False</td>\n",
       "      <td>True</td>\n",
       "      <td>False</td>\n",
       "      <td>True</td>\n",
       "      <td>True</td>\n",
       "    </tr>\n",
       "    <tr>\n",
       "      <th>1</th>\n",
       "      <td>True</td>\n",
       "      <td>False</td>\n",
       "      <td>False</td>\n",
       "      <td>False</td>\n",
       "      <td>False</td>\n",
       "      <td>False</td>\n",
       "      <td>False</td>\n",
       "      <td>False</td>\n",
       "      <td>False</td>\n",
       "      <td>False</td>\n",
       "      <td>True</td>\n",
       "      <td>False</td>\n",
       "      <td>True</td>\n",
       "      <td>True</td>\n",
       "    </tr>\n",
       "    <tr>\n",
       "      <th>2</th>\n",
       "      <td>True</td>\n",
       "      <td>False</td>\n",
       "      <td>False</td>\n",
       "      <td>False</td>\n",
       "      <td>False</td>\n",
       "      <td>False</td>\n",
       "      <td>False</td>\n",
       "      <td>False</td>\n",
       "      <td>False</td>\n",
       "      <td>False</td>\n",
       "      <td>True</td>\n",
       "      <td>True</td>\n",
       "      <td>True</td>\n",
       "      <td>True</td>\n",
       "    </tr>\n",
       "    <tr>\n",
       "      <th>3</th>\n",
       "      <td>True</td>\n",
       "      <td>False</td>\n",
       "      <td>False</td>\n",
       "      <td>False</td>\n",
       "      <td>False</td>\n",
       "      <td>False</td>\n",
       "      <td>False</td>\n",
       "      <td>False</td>\n",
       "      <td>True</td>\n",
       "      <td>False</td>\n",
       "      <td>True</td>\n",
       "      <td>True</td>\n",
       "      <td>False</td>\n",
       "      <td>False</td>\n",
       "    </tr>\n",
       "    <tr>\n",
       "      <th>4</th>\n",
       "      <td>True</td>\n",
       "      <td>False</td>\n",
       "      <td>False</td>\n",
       "      <td>False</td>\n",
       "      <td>False</td>\n",
       "      <td>False</td>\n",
       "      <td>False</td>\n",
       "      <td>False</td>\n",
       "      <td>False</td>\n",
       "      <td>False</td>\n",
       "      <td>True</td>\n",
       "      <td>False</td>\n",
       "      <td>False</td>\n",
       "      <td>False</td>\n",
       "    </tr>\n",
       "    <tr>\n",
       "      <th>...</th>\n",
       "      <td>...</td>\n",
       "      <td>...</td>\n",
       "      <td>...</td>\n",
       "      <td>...</td>\n",
       "      <td>...</td>\n",
       "      <td>...</td>\n",
       "      <td>...</td>\n",
       "      <td>...</td>\n",
       "      <td>...</td>\n",
       "      <td>...</td>\n",
       "      <td>...</td>\n",
       "      <td>...</td>\n",
       "      <td>...</td>\n",
       "      <td>...</td>\n",
       "    </tr>\n",
       "    <tr>\n",
       "      <th>1131</th>\n",
       "      <td>True</td>\n",
       "      <td>False</td>\n",
       "      <td>False</td>\n",
       "      <td>False</td>\n",
       "      <td>False</td>\n",
       "      <td>False</td>\n",
       "      <td>False</td>\n",
       "      <td>False</td>\n",
       "      <td>False</td>\n",
       "      <td>False</td>\n",
       "      <td>True</td>\n",
       "      <td>True</td>\n",
       "      <td>True</td>\n",
       "      <td>True</td>\n",
       "    </tr>\n",
       "    <tr>\n",
       "      <th>1132</th>\n",
       "      <td>True</td>\n",
       "      <td>False</td>\n",
       "      <td>False</td>\n",
       "      <td>False</td>\n",
       "      <td>False</td>\n",
       "      <td>False</td>\n",
       "      <td>False</td>\n",
       "      <td>False</td>\n",
       "      <td>False</td>\n",
       "      <td>False</td>\n",
       "      <td>True</td>\n",
       "      <td>True</td>\n",
       "      <td>True</td>\n",
       "      <td>True</td>\n",
       "    </tr>\n",
       "    <tr>\n",
       "      <th>1133</th>\n",
       "      <td>True</td>\n",
       "      <td>False</td>\n",
       "      <td>False</td>\n",
       "      <td>False</td>\n",
       "      <td>False</td>\n",
       "      <td>False</td>\n",
       "      <td>False</td>\n",
       "      <td>False</td>\n",
       "      <td>False</td>\n",
       "      <td>False</td>\n",
       "      <td>True</td>\n",
       "      <td>False</td>\n",
       "      <td>False</td>\n",
       "      <td>True</td>\n",
       "    </tr>\n",
       "    <tr>\n",
       "      <th>1134</th>\n",
       "      <td>True</td>\n",
       "      <td>False</td>\n",
       "      <td>False</td>\n",
       "      <td>False</td>\n",
       "      <td>False</td>\n",
       "      <td>False</td>\n",
       "      <td>False</td>\n",
       "      <td>False</td>\n",
       "      <td>False</td>\n",
       "      <td>False</td>\n",
       "      <td>True</td>\n",
       "      <td>False</td>\n",
       "      <td>False</td>\n",
       "      <td>True</td>\n",
       "    </tr>\n",
       "    <tr>\n",
       "      <th>1135</th>\n",
       "      <td>True</td>\n",
       "      <td>False</td>\n",
       "      <td>False</td>\n",
       "      <td>False</td>\n",
       "      <td>False</td>\n",
       "      <td>False</td>\n",
       "      <td>False</td>\n",
       "      <td>False</td>\n",
       "      <td>False</td>\n",
       "      <td>False</td>\n",
       "      <td>True</td>\n",
       "      <td>True</td>\n",
       "      <td>True</td>\n",
       "      <td>True</td>\n",
       "    </tr>\n",
       "  </tbody>\n",
       "</table>\n",
       "<p>1136 rows × 14 columns</p>\n",
       "</div>"
      ],
      "text/plain": [
       "      Name  Python (out of 3)  Machine Learning (out of 3)  \\\n",
       "0     True              False                        False   \n",
       "1     True              False                        False   \n",
       "2     True              False                        False   \n",
       "3     True              False                        False   \n",
       "4     True              False                        False   \n",
       "...    ...                ...                          ...   \n",
       "1131  True              False                        False   \n",
       "1132  True              False                        False   \n",
       "1133  True              False                        False   \n",
       "1134  True              False                        False   \n",
       "1135  True              False                        False   \n",
       "\n",
       "      Natural Language Processing (NLP) (out of 3)  Deep Learning (out of 3)  \\\n",
       "0                                            False                     False   \n",
       "1                                            False                     False   \n",
       "2                                            False                     False   \n",
       "3                                            False                     False   \n",
       "4                                            False                     False   \n",
       "...                                            ...                       ...   \n",
       "1131                                         False                     False   \n",
       "1132                                         False                     False   \n",
       "1133                                         False                     False   \n",
       "1134                                         False                     False   \n",
       "1135                                         False                     False   \n",
       "\n",
       "      Other skills  \\\n",
       "0            False   \n",
       "1            False   \n",
       "2            False   \n",
       "3            False   \n",
       "4            False   \n",
       "...            ...   \n",
       "1131         False   \n",
       "1132         False   \n",
       "1133         False   \n",
       "1134         False   \n",
       "1135         False   \n",
       "\n",
       "      Are you available for 3 months, starting immediately, for a full-time work from home internship?   \\\n",
       "0                                                 False                                                   \n",
       "1                                                 False                                                   \n",
       "2                                                 False                                                   \n",
       "3                                                 False                                                   \n",
       "4                                                 False                                                   \n",
       "...                                                 ...                                                   \n",
       "1131                                              False                                                   \n",
       "1132                                              False                                                   \n",
       "1133                                              False                                                   \n",
       "1134                                              False                                                   \n",
       "1135                                              False                                                   \n",
       "\n",
       "      Degree  Stream  Current Year Of Graduation  Performance_PG  \\\n",
       "0      False   False                       False            True   \n",
       "1      False   False                       False            True   \n",
       "2      False   False                       False            True   \n",
       "3      False    True                       False            True   \n",
       "4      False   False                       False            True   \n",
       "...      ...     ...                         ...             ...   \n",
       "1131   False   False                       False            True   \n",
       "1132   False   False                       False            True   \n",
       "1133   False   False                       False            True   \n",
       "1134   False   False                       False            True   \n",
       "1135   False   False                       False            True   \n",
       "\n",
       "      Performance_UG  Performance_12  Performance_10  \n",
       "0              False            True            True  \n",
       "1              False            True            True  \n",
       "2               True            True            True  \n",
       "3               True           False           False  \n",
       "4              False           False           False  \n",
       "...              ...             ...             ...  \n",
       "1131            True            True            True  \n",
       "1132            True            True            True  \n",
       "1133           False           False            True  \n",
       "1134           False           False            True  \n",
       "1135            True            True            True  \n",
       "\n",
       "[1136 rows x 14 columns]"
      ]
     },
     "execution_count": 9,
     "metadata": {},
     "output_type": "execute_result"
    }
   ],
   "source": [
    "df.isna()"
   ]
  },
  {
   "cell_type": "code",
   "execution_count": 10,
   "id": "c739d83f",
   "metadata": {},
   "outputs": [
    {
     "data": {
      "text/plain": [
       "Name                                                                                                  True\n",
       "Python (out of 3)                                                                                    False\n",
       "Machine Learning (out of 3)                                                                          False\n",
       "Natural Language Processing (NLP) (out of 3)                                                         False\n",
       "Deep Learning (out of 3)                                                                             False\n",
       "Other skills                                                                                          True\n",
       "Are you available for 3 months, starting immediately, for a full-time work from home internship?     False\n",
       "Degree                                                                                                True\n",
       "Stream                                                                                                True\n",
       "Current Year Of Graduation                                                                           False\n",
       "Performance_PG                                                                                        True\n",
       "Performance_UG                                                                                        True\n",
       "Performance_12                                                                                        True\n",
       "Performance_10                                                                                        True\n",
       "dtype: bool"
      ]
     },
     "execution_count": 10,
     "metadata": {},
     "output_type": "execute_result"
    }
   ],
   "source": [
    "df.isna().any()"
   ]
  },
  {
   "cell_type": "code",
   "execution_count": 11,
   "id": "d72cf946",
   "metadata": {},
   "outputs": [
    {
     "data": {
      "text/plain": [
       "0       False\n",
       "1       False\n",
       "2       False\n",
       "3       False\n",
       "4       False\n",
       "        ...  \n",
       "1131    False\n",
       "1132    False\n",
       "1133    False\n",
       "1134    False\n",
       "1135    False\n",
       "Length: 1136, dtype: bool"
      ]
     },
     "execution_count": 11,
     "metadata": {},
     "output_type": "execute_result"
    }
   ],
   "source": [
    "df.duplicated()"
   ]
  },
  {
   "cell_type": "code",
   "execution_count": 12,
   "id": "36024108",
   "metadata": {},
   "outputs": [
    {
     "data": {
      "text/plain": [
       "(1136,)"
      ]
     },
     "execution_count": 12,
     "metadata": {},
     "output_type": "execute_result"
    }
   ],
   "source": [
    "df.duplicated().shape"
   ]
  },
  {
   "cell_type": "code",
   "execution_count": 13,
   "id": "6bb3ed95",
   "metadata": {},
   "outputs": [],
   "source": [
    "df['Other skills'] = df['Other skills'].fillna('Unknown')"
   ]
  },
  {
   "cell_type": "code",
   "execution_count": 14,
   "id": "a534ffb2",
   "metadata": {},
   "outputs": [],
   "source": [
    "df1=df['Other skills']"
   ]
  },
  {
   "cell_type": "code",
   "execution_count": 15,
   "id": "d40815ce",
   "metadata": {},
   "outputs": [
    {
     "name": "stdout",
     "output_type": "stream",
     "text": [
      "0       MS-Excel, MS-Word, Deep Learning, MySQL, Pytho...\n",
      "1       Git, GitHub, Linux, Adobe After Effects, Adobe...\n",
      "2       Amazon Web Services (AWS), Docker, Hadoop, MS-...\n",
      "3       Adobe XD, BIG DATA ANALYTICS, Canva, Data Anal...\n",
      "4       C++ Programming, Data Science, Machine Learnin...\n",
      "                              ...                        \n",
      "1131    Data Analytics, Amazon Web Services (AWS), Dat...\n",
      "1132    Deep Learning, Docker, HTML, MS-Office, Machin...\n",
      "1133    Data Science, Deep Learning, English Proficien...\n",
      "1134    Python, Data Analytics, MS-Excel, Machine Lear...\n",
      "1135    C++ Programming, Database Management System (D...\n",
      "Name: Other skills, Length: 1136, dtype: object\n"
     ]
    }
   ],
   "source": [
    "print(df1)"
   ]
  },
  {
   "cell_type": "code",
   "execution_count": 16,
   "id": "6a64e72d",
   "metadata": {},
   "outputs": [
    {
     "data": {
      "text/plain": [
       "0       False\n",
       "1       False\n",
       "2       False\n",
       "3       False\n",
       "4       False\n",
       "        ...  \n",
       "1131    False\n",
       "1132    False\n",
       "1133    False\n",
       "1134    False\n",
       "1135    False\n",
       "Name: Other skills, Length: 1136, dtype: bool"
      ]
     },
     "execution_count": 16,
     "metadata": {},
     "output_type": "execute_result"
    }
   ],
   "source": [
    "df1.isna()"
   ]
  },
  {
   "cell_type": "code",
   "execution_count": 17,
   "id": "1124c46e",
   "metadata": {},
   "outputs": [
    {
     "data": {
      "text/plain": [
       "0"
      ]
     },
     "execution_count": 17,
     "metadata": {},
     "output_type": "execute_result"
    }
   ],
   "source": [
    "df1.isnull().sum()"
   ]
  },
  {
   "cell_type": "code",
   "execution_count": 18,
   "id": "f8df60d9",
   "metadata": {},
   "outputs": [],
   "source": [
    "df['Stream'] = df['Stream'].fillna('Unknown')"
   ]
  },
  {
   "cell_type": "code",
   "execution_count": 19,
   "id": "ad308d96",
   "metadata": {},
   "outputs": [],
   "source": [
    "df2=df['Stream']"
   ]
  },
  {
   "cell_type": "code",
   "execution_count": 20,
   "id": "e7887cfd",
   "metadata": {},
   "outputs": [
    {
     "name": "stdout",
     "output_type": "stream",
     "text": [
      "0                 Software Engineering\n",
      "1       Computer Science & Engineering\n",
      "2           Data Science And Analytics\n",
      "3                              Unknown\n",
      "4                     Computer Science\n",
      "                     ...              \n",
      "1131            Mechanical Engineering\n",
      "1132    Computer Science & Engineering\n",
      "1133     Electronics and Communication\n",
      "1134                  Computer Science\n",
      "1135                       Engineering\n",
      "Name: Stream, Length: 1136, dtype: object\n"
     ]
    }
   ],
   "source": [
    "print(df2)"
   ]
  },
  {
   "cell_type": "code",
   "execution_count": 21,
   "id": "d66b8aaa",
   "metadata": {
    "scrolled": true
   },
   "outputs": [
    {
     "data": {
      "text/plain": [
       "0       False\n",
       "1       False\n",
       "2       False\n",
       "3       False\n",
       "4       False\n",
       "        ...  \n",
       "1131    False\n",
       "1132    False\n",
       "1133    False\n",
       "1134    False\n",
       "1135    False\n",
       "Name: Stream, Length: 1136, dtype: bool"
      ]
     },
     "execution_count": 21,
     "metadata": {},
     "output_type": "execute_result"
    }
   ],
   "source": [
    "df2.isna()"
   ]
  },
  {
   "cell_type": "code",
   "execution_count": 22,
   "id": "50082657",
   "metadata": {},
   "outputs": [
    {
     "data": {
      "text/plain": [
       "0"
      ]
     },
     "execution_count": 22,
     "metadata": {},
     "output_type": "execute_result"
    }
   ],
   "source": [
    "df2.isnull().sum()"
   ]
  },
  {
   "cell_type": "code",
   "execution_count": 23,
   "id": "458f510b",
   "metadata": {},
   "outputs": [],
   "source": [
    "df['Degree'] = df['Degree'].fillna('Unknown')"
   ]
  },
  {
   "cell_type": "code",
   "execution_count": 24,
   "id": "65bb8817",
   "metadata": {},
   "outputs": [],
   "source": [
    "df3=df['Degree']"
   ]
  },
  {
   "cell_type": "code",
   "execution_count": 25,
   "id": "5f68a81f",
   "metadata": {},
   "outputs": [
    {
     "name": "stdout",
     "output_type": "stream",
     "text": [
      "0       Bachelor of Vocation (B.Voc.)\n",
      "1                              B.Tech\n",
      "2            Master of Science (M.S.)\n",
      "3       Bachelor of Engineering (B.E)\n",
      "4                              B.Tech\n",
      "                    ...              \n",
      "1131                           B.Tech\n",
      "1132                           B.Tech\n",
      "1133                           B.Tech\n",
      "1134                           B.Tech\n",
      "1135                           B.Tech\n",
      "Name: Degree, Length: 1136, dtype: object\n"
     ]
    }
   ],
   "source": [
    "print(df3)"
   ]
  },
  {
   "cell_type": "code",
   "execution_count": 26,
   "id": "3d8c6a27",
   "metadata": {},
   "outputs": [
    {
     "data": {
      "text/plain": [
       "0       False\n",
       "1       False\n",
       "2       False\n",
       "3       False\n",
       "4       False\n",
       "        ...  \n",
       "1131    False\n",
       "1132    False\n",
       "1133    False\n",
       "1134    False\n",
       "1135    False\n",
       "Name: Degree, Length: 1136, dtype: bool"
      ]
     },
     "execution_count": 26,
     "metadata": {},
     "output_type": "execute_result"
    }
   ],
   "source": [
    "df3.isna()"
   ]
  },
  {
   "cell_type": "code",
   "execution_count": 27,
   "id": "b3f2ebac",
   "metadata": {},
   "outputs": [
    {
     "data": {
      "text/plain": [
       "0"
      ]
     },
     "execution_count": 27,
     "metadata": {},
     "output_type": "execute_result"
    }
   ],
   "source": [
    "df3.isnull().sum()"
   ]
  },
  {
   "cell_type": "code",
   "execution_count": 28,
   "id": "e53ccafb",
   "metadata": {},
   "outputs": [],
   "source": [
    "df['Performance_PG']= df['Performance_PG'].fillna(0)"
   ]
  },
  {
   "cell_type": "code",
   "execution_count": 29,
   "id": "71725b89",
   "metadata": {},
   "outputs": [
    {
     "name": "stdout",
     "output_type": "stream",
     "text": [
      "0       0\n",
      "1       0\n",
      "2       0\n",
      "3       0\n",
      "4       0\n",
      "       ..\n",
      "1131    0\n",
      "1132    0\n",
      "1133    0\n",
      "1134    0\n",
      "1135    0\n",
      "Name: Performance_PG, Length: 1136, dtype: object\n"
     ]
    }
   ],
   "source": [
    "print(df['Performance_PG'])"
   ]
  },
  {
   "cell_type": "code",
   "execution_count": 30,
   "id": "24d7a779",
   "metadata": {},
   "outputs": [],
   "source": [
    "df['Performance_UG']= df['Performance_UG'].fillna(0)"
   ]
  },
  {
   "cell_type": "code",
   "execution_count": 31,
   "id": "500da9fd",
   "metadata": {},
   "outputs": [
    {
     "name": "stdout",
     "output_type": "stream",
     "text": [
      "0        6.50/7\n",
      "1       8.90/10\n",
      "2             0\n",
      "3             0\n",
      "4       8.10/10\n",
      "         ...   \n",
      "1131          0\n",
      "1132          0\n",
      "1133    8.77/10\n",
      "1134    7.90/10\n",
      "1135          0\n",
      "Name: Performance_UG, Length: 1136, dtype: object\n"
     ]
    }
   ],
   "source": [
    "print(df['Performance_UG'])"
   ]
  },
  {
   "cell_type": "code",
   "execution_count": 32,
   "id": "3349e4c9",
   "metadata": {},
   "outputs": [],
   "source": [
    "df['Performance_12']= df['Performance_12'].fillna(0)"
   ]
  },
  {
   "cell_type": "code",
   "execution_count": 33,
   "id": "31c7c258",
   "metadata": {},
   "outputs": [
    {
     "name": "stdout",
     "output_type": "stream",
     "text": [
      "0                 0\n",
      "1                 0\n",
      "2                 0\n",
      "3       85.60/85.60\n",
      "4       93.40/93.40\n",
      "           ...     \n",
      "1131              0\n",
      "1132              0\n",
      "1133      9.40/9.40\n",
      "1134    90.00/90.00\n",
      "1135              0\n",
      "Name: Performance_12, Length: 1136, dtype: object\n"
     ]
    }
   ],
   "source": [
    "print(df['Performance_12'])"
   ]
  },
  {
   "cell_type": "code",
   "execution_count": 34,
   "id": "419b4b1a",
   "metadata": {},
   "outputs": [],
   "source": [
    "df['Performance_10']= df['Performance_10'].fillna(0)"
   ]
  },
  {
   "cell_type": "code",
   "execution_count": 35,
   "id": "c8338874",
   "metadata": {},
   "outputs": [
    {
     "data": {
      "text/plain": [
       "0                 0\n",
       "1                 0\n",
       "2                 0\n",
       "3       10.00/10.00\n",
       "4       10.00/10.00\n",
       "           ...     \n",
       "1131              0\n",
       "1132              0\n",
       "1133              0\n",
       "1134              0\n",
       "1135              0\n",
       "Name: Performance_10, Length: 1136, dtype: object"
      ]
     },
     "execution_count": 35,
     "metadata": {},
     "output_type": "execute_result"
    }
   ],
   "source": [
    "df['Performance_10']"
   ]
  },
  {
   "cell_type": "markdown",
   "id": "eb7730e6",
   "metadata": {},
   "source": [
    "Missing values are present in 3 categorical variables otherskils,degree,stream and 4 numeric variables such as Performance_PG    Performance_UG,Performance_12,Performance_10.Categorical variables are replace by unknown value.For numeric variables firstly convert this 4 columns by text to colums in excel into fraction.Then replace Nan values by na and this na values replace by 0.so,all missing values are removed.                                                                                        "
   ]
  },
  {
   "cell_type": "code",
   "execution_count": 39,
   "id": "e18c0ee9",
   "metadata": {},
   "outputs": [
    {
     "ename": "KeyError",
     "evalue": "'Are you available for 3 months, starting immediately, for a full-time work from home internship?'",
     "output_type": "error",
     "traceback": [
      "\u001b[1;31m---------------------------------------------------------------------------\u001b[0m",
      "\u001b[1;31mKeyError\u001b[0m                                  Traceback (most recent call last)",
      "File \u001b[1;32m~\\AppData\\Local\\Programs\\Python\\Python310\\lib\\site-packages\\pandas\\core\\indexes\\base.py:3800\u001b[0m, in \u001b[0;36mIndex.get_loc\u001b[1;34m(self, key, method, tolerance)\u001b[0m\n\u001b[0;32m   3799\u001b[0m \u001b[38;5;28;01mtry\u001b[39;00m:\n\u001b[1;32m-> 3800\u001b[0m     \u001b[38;5;28;01mreturn\u001b[39;00m \u001b[38;5;28;43mself\u001b[39;49m\u001b[38;5;241;43m.\u001b[39;49m\u001b[43m_engine\u001b[49m\u001b[38;5;241;43m.\u001b[39;49m\u001b[43mget_loc\u001b[49m\u001b[43m(\u001b[49m\u001b[43mcasted_key\u001b[49m\u001b[43m)\u001b[49m\n\u001b[0;32m   3801\u001b[0m \u001b[38;5;28;01mexcept\u001b[39;00m \u001b[38;5;167;01mKeyError\u001b[39;00m \u001b[38;5;28;01mas\u001b[39;00m err:\n",
      "File \u001b[1;32m~\\AppData\\Local\\Programs\\Python\\Python310\\lib\\site-packages\\pandas\\_libs\\index.pyx:138\u001b[0m, in \u001b[0;36mpandas._libs.index.IndexEngine.get_loc\u001b[1;34m()\u001b[0m\n",
      "File \u001b[1;32m~\\AppData\\Local\\Programs\\Python\\Python310\\lib\\site-packages\\pandas\\_libs\\index.pyx:165\u001b[0m, in \u001b[0;36mpandas._libs.index.IndexEngine.get_loc\u001b[1;34m()\u001b[0m\n",
      "File \u001b[1;32mpandas\\_libs\\hashtable_class_helper.pxi:5745\u001b[0m, in \u001b[0;36mpandas._libs.hashtable.PyObjectHashTable.get_item\u001b[1;34m()\u001b[0m\n",
      "File \u001b[1;32mpandas\\_libs\\hashtable_class_helper.pxi:5753\u001b[0m, in \u001b[0;36mpandas._libs.hashtable.PyObjectHashTable.get_item\u001b[1;34m()\u001b[0m\n",
      "\u001b[1;31mKeyError\u001b[0m: 'Are you available for 3 months, starting immediately, for a full-time work from home internship?'",
      "\nThe above exception was the direct cause of the following exception:\n",
      "\u001b[1;31mKeyError\u001b[0m                                  Traceback (most recent call last)",
      "Cell \u001b[1;32mIn [39], line 1\u001b[0m\n\u001b[1;32m----> 1\u001b[0m \u001b[43mdf\u001b[49m\u001b[43m[\u001b[49m\u001b[38;5;124;43m'\u001b[39;49m\u001b[38;5;124;43mAre you available for 3 months, starting immediately, for a full-time work from home internship?\u001b[39;49m\u001b[38;5;124;43m'\u001b[39;49m\u001b[43m]\u001b[49m\u001b[38;5;241m.\u001b[39mvalue_counts()\n",
      "File \u001b[1;32m~\\AppData\\Local\\Programs\\Python\\Python310\\lib\\site-packages\\pandas\\core\\frame.py:3805\u001b[0m, in \u001b[0;36mDataFrame.__getitem__\u001b[1;34m(self, key)\u001b[0m\n\u001b[0;32m   3803\u001b[0m \u001b[38;5;28;01mif\u001b[39;00m \u001b[38;5;28mself\u001b[39m\u001b[38;5;241m.\u001b[39mcolumns\u001b[38;5;241m.\u001b[39mnlevels \u001b[38;5;241m>\u001b[39m \u001b[38;5;241m1\u001b[39m:\n\u001b[0;32m   3804\u001b[0m     \u001b[38;5;28;01mreturn\u001b[39;00m \u001b[38;5;28mself\u001b[39m\u001b[38;5;241m.\u001b[39m_getitem_multilevel(key)\n\u001b[1;32m-> 3805\u001b[0m indexer \u001b[38;5;241m=\u001b[39m \u001b[38;5;28;43mself\u001b[39;49m\u001b[38;5;241;43m.\u001b[39;49m\u001b[43mcolumns\u001b[49m\u001b[38;5;241;43m.\u001b[39;49m\u001b[43mget_loc\u001b[49m\u001b[43m(\u001b[49m\u001b[43mkey\u001b[49m\u001b[43m)\u001b[49m\n\u001b[0;32m   3806\u001b[0m \u001b[38;5;28;01mif\u001b[39;00m is_integer(indexer):\n\u001b[0;32m   3807\u001b[0m     indexer \u001b[38;5;241m=\u001b[39m [indexer]\n",
      "File \u001b[1;32m~\\AppData\\Local\\Programs\\Python\\Python310\\lib\\site-packages\\pandas\\core\\indexes\\base.py:3802\u001b[0m, in \u001b[0;36mIndex.get_loc\u001b[1;34m(self, key, method, tolerance)\u001b[0m\n\u001b[0;32m   3800\u001b[0m     \u001b[38;5;28;01mreturn\u001b[39;00m \u001b[38;5;28mself\u001b[39m\u001b[38;5;241m.\u001b[39m_engine\u001b[38;5;241m.\u001b[39mget_loc(casted_key)\n\u001b[0;32m   3801\u001b[0m \u001b[38;5;28;01mexcept\u001b[39;00m \u001b[38;5;167;01mKeyError\u001b[39;00m \u001b[38;5;28;01mas\u001b[39;00m err:\n\u001b[1;32m-> 3802\u001b[0m     \u001b[38;5;28;01mraise\u001b[39;00m \u001b[38;5;167;01mKeyError\u001b[39;00m(key) \u001b[38;5;28;01mfrom\u001b[39;00m \u001b[38;5;21;01merr\u001b[39;00m\n\u001b[0;32m   3803\u001b[0m \u001b[38;5;28;01mexcept\u001b[39;00m \u001b[38;5;167;01mTypeError\u001b[39;00m:\n\u001b[0;32m   3804\u001b[0m     \u001b[38;5;66;03m# If we have a listlike key, _check_indexing_error will raise\u001b[39;00m\n\u001b[0;32m   3805\u001b[0m     \u001b[38;5;66;03m#  InvalidIndexError. Otherwise we fall through and re-raise\u001b[39;00m\n\u001b[0;32m   3806\u001b[0m     \u001b[38;5;66;03m#  the TypeError.\u001b[39;00m\n\u001b[0;32m   3807\u001b[0m     \u001b[38;5;28mself\u001b[39m\u001b[38;5;241m.\u001b[39m_check_indexing_error(key)\n",
      "\u001b[1;31mKeyError\u001b[0m: 'Are you available for 3 months, starting immediately, for a full-time work from home internship?'"
     ]
    }
   ],
   "source": [
    "df['Are you available for 3 months, starting immediately, for a full-time work from home internship?'].value_counts()"
   ]
  },
  {
   "cell_type": "code",
   "execution_count": 40,
   "id": "8965606b",
   "metadata": {},
   "outputs": [
    {
     "ename": "KeyError",
     "evalue": "'Are you available for 3 months, starting immediately, for a full-time work from home internship?'",
     "output_type": "error",
     "traceback": [
      "\u001b[1;31m---------------------------------------------------------------------------\u001b[0m",
      "\u001b[1;31mKeyError\u001b[0m                                  Traceback (most recent call last)",
      "File \u001b[1;32m~\\AppData\\Local\\Programs\\Python\\Python310\\lib\\site-packages\\pandas\\core\\indexes\\base.py:3800\u001b[0m, in \u001b[0;36mIndex.get_loc\u001b[1;34m(self, key, method, tolerance)\u001b[0m\n\u001b[0;32m   3799\u001b[0m \u001b[38;5;28;01mtry\u001b[39;00m:\n\u001b[1;32m-> 3800\u001b[0m     \u001b[38;5;28;01mreturn\u001b[39;00m \u001b[38;5;28;43mself\u001b[39;49m\u001b[38;5;241;43m.\u001b[39;49m\u001b[43m_engine\u001b[49m\u001b[38;5;241;43m.\u001b[39;49m\u001b[43mget_loc\u001b[49m\u001b[43m(\u001b[49m\u001b[43mcasted_key\u001b[49m\u001b[43m)\u001b[49m\n\u001b[0;32m   3801\u001b[0m \u001b[38;5;28;01mexcept\u001b[39;00m \u001b[38;5;167;01mKeyError\u001b[39;00m \u001b[38;5;28;01mas\u001b[39;00m err:\n",
      "File \u001b[1;32m~\\AppData\\Local\\Programs\\Python\\Python310\\lib\\site-packages\\pandas\\_libs\\index.pyx:138\u001b[0m, in \u001b[0;36mpandas._libs.index.IndexEngine.get_loc\u001b[1;34m()\u001b[0m\n",
      "File \u001b[1;32m~\\AppData\\Local\\Programs\\Python\\Python310\\lib\\site-packages\\pandas\\_libs\\index.pyx:165\u001b[0m, in \u001b[0;36mpandas._libs.index.IndexEngine.get_loc\u001b[1;34m()\u001b[0m\n",
      "File \u001b[1;32mpandas\\_libs\\hashtable_class_helper.pxi:5745\u001b[0m, in \u001b[0;36mpandas._libs.hashtable.PyObjectHashTable.get_item\u001b[1;34m()\u001b[0m\n",
      "File \u001b[1;32mpandas\\_libs\\hashtable_class_helper.pxi:5753\u001b[0m, in \u001b[0;36mpandas._libs.hashtable.PyObjectHashTable.get_item\u001b[1;34m()\u001b[0m\n",
      "\u001b[1;31mKeyError\u001b[0m: 'Are you available for 3 months, starting immediately, for a full-time work from home internship?'",
      "\nThe above exception was the direct cause of the following exception:\n",
      "\u001b[1;31mKeyError\u001b[0m                                  Traceback (most recent call last)",
      "Cell \u001b[1;32mIn [40], line 1\u001b[0m\n\u001b[1;32m----> 1\u001b[0m \u001b[43mdf\u001b[49m\u001b[43m[\u001b[49m\u001b[38;5;124;43m'\u001b[39;49m\u001b[38;5;124;43mAre you available for 3 months, starting immediately, for a full-time work from home internship?\u001b[39;49m\u001b[38;5;124;43m'\u001b[39;49m\u001b[43m]\u001b[49m\u001b[38;5;241m.\u001b[39mreplace(to_replace\u001b[38;5;241m=\u001b[39m[\u001b[38;5;124m'\u001b[39m\u001b[38;5;124mYes\u001b[39m\u001b[38;5;124m'\u001b[39m],value\u001b[38;5;241m=\u001b[39m\u001b[38;5;241m1\u001b[39m,inplace\u001b[38;5;241m=\u001b[39m\u001b[38;5;28;01mTrue\u001b[39;00m)\n\u001b[0;32m      2\u001b[0m df[\u001b[38;5;124m'\u001b[39m\u001b[38;5;124mAre you available for 3 months, starting immediately, for a full-time work from home internship?\u001b[39m\u001b[38;5;124m'\u001b[39m]\u001b[38;5;241m.\u001b[39mreplace(to_replace\u001b[38;5;241m=\u001b[39m[\u001b[38;5;124m'\u001b[39m\u001b[38;5;124mNo\u001b[39m\u001b[38;5;124m'\u001b[39m],value\u001b[38;5;241m=\u001b[39m\u001b[38;5;241m0\u001b[39m,inplace\u001b[38;5;241m=\u001b[39m\u001b[38;5;28;01mTrue\u001b[39;00m)\n\u001b[0;32m      3\u001b[0m df\u001b[38;5;241m.\u001b[39mhead()\n",
      "File \u001b[1;32m~\\AppData\\Local\\Programs\\Python\\Python310\\lib\\site-packages\\pandas\\core\\frame.py:3805\u001b[0m, in \u001b[0;36mDataFrame.__getitem__\u001b[1;34m(self, key)\u001b[0m\n\u001b[0;32m   3803\u001b[0m \u001b[38;5;28;01mif\u001b[39;00m \u001b[38;5;28mself\u001b[39m\u001b[38;5;241m.\u001b[39mcolumns\u001b[38;5;241m.\u001b[39mnlevels \u001b[38;5;241m>\u001b[39m \u001b[38;5;241m1\u001b[39m:\n\u001b[0;32m   3804\u001b[0m     \u001b[38;5;28;01mreturn\u001b[39;00m \u001b[38;5;28mself\u001b[39m\u001b[38;5;241m.\u001b[39m_getitem_multilevel(key)\n\u001b[1;32m-> 3805\u001b[0m indexer \u001b[38;5;241m=\u001b[39m \u001b[38;5;28;43mself\u001b[39;49m\u001b[38;5;241;43m.\u001b[39;49m\u001b[43mcolumns\u001b[49m\u001b[38;5;241;43m.\u001b[39;49m\u001b[43mget_loc\u001b[49m\u001b[43m(\u001b[49m\u001b[43mkey\u001b[49m\u001b[43m)\u001b[49m\n\u001b[0;32m   3806\u001b[0m \u001b[38;5;28;01mif\u001b[39;00m is_integer(indexer):\n\u001b[0;32m   3807\u001b[0m     indexer \u001b[38;5;241m=\u001b[39m [indexer]\n",
      "File \u001b[1;32m~\\AppData\\Local\\Programs\\Python\\Python310\\lib\\site-packages\\pandas\\core\\indexes\\base.py:3802\u001b[0m, in \u001b[0;36mIndex.get_loc\u001b[1;34m(self, key, method, tolerance)\u001b[0m\n\u001b[0;32m   3800\u001b[0m     \u001b[38;5;28;01mreturn\u001b[39;00m \u001b[38;5;28mself\u001b[39m\u001b[38;5;241m.\u001b[39m_engine\u001b[38;5;241m.\u001b[39mget_loc(casted_key)\n\u001b[0;32m   3801\u001b[0m \u001b[38;5;28;01mexcept\u001b[39;00m \u001b[38;5;167;01mKeyError\u001b[39;00m \u001b[38;5;28;01mas\u001b[39;00m err:\n\u001b[1;32m-> 3802\u001b[0m     \u001b[38;5;28;01mraise\u001b[39;00m \u001b[38;5;167;01mKeyError\u001b[39;00m(key) \u001b[38;5;28;01mfrom\u001b[39;00m \u001b[38;5;21;01merr\u001b[39;00m\n\u001b[0;32m   3803\u001b[0m \u001b[38;5;28;01mexcept\u001b[39;00m \u001b[38;5;167;01mTypeError\u001b[39;00m:\n\u001b[0;32m   3804\u001b[0m     \u001b[38;5;66;03m# If we have a listlike key, _check_indexing_error will raise\u001b[39;00m\n\u001b[0;32m   3805\u001b[0m     \u001b[38;5;66;03m#  InvalidIndexError. Otherwise we fall through and re-raise\u001b[39;00m\n\u001b[0;32m   3806\u001b[0m     \u001b[38;5;66;03m#  the TypeError.\u001b[39;00m\n\u001b[0;32m   3807\u001b[0m     \u001b[38;5;28mself\u001b[39m\u001b[38;5;241m.\u001b[39m_check_indexing_error(key)\n",
      "\u001b[1;31mKeyError\u001b[0m: 'Are you available for 3 months, starting immediately, for a full-time work from home internship?'"
     ]
    }
   ],
   "source": [
    "df['Are you available for 3 months, starting immediately, for a full-time work from home internship?'].replace(to_replace=['Yes'],value=1,inplace=True)\n",
    "df['Are you available for 3 months, starting immediately, for a full-time work from home internship?'].replace(to_replace=['No'],value=0,inplace=True)\n",
    "df.head()"
   ]
  },
  {
   "cell_type": "code",
   "execution_count": null,
   "id": "7cad205c",
   "metadata": {},
   "outputs": [],
   "source": []
  },
  {
   "cell_type": "code",
   "execution_count": null,
   "id": "8db64e90",
   "metadata": {},
   "outputs": [],
   "source": []
  }
 ],
 "metadata": {
  "kernelspec": {
   "display_name": "Python 3 (ipykernel)",
   "language": "python",
   "name": "python3"
  },
  "language_info": {
   "codemirror_mode": {
    "name": "ipython",
    "version": 3
   },
   "file_extension": ".py",
   "mimetype": "text/x-python",
   "name": "python",
   "nbconvert_exporter": "python",
   "pygments_lexer": "ipython3",
   "version": "3.10.6"
  }
 },
 "nbformat": 4,
 "nbformat_minor": 5
}
